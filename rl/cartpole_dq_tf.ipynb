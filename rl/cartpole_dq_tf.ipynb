{
 "cells": [
  {
   "cell_type": "code",
   "execution_count": 18,
   "metadata": {},
   "outputs": [
    {
     "data": {
      "text/plain": [
       "array([-0.02257066, -0.04712394, -0.04959457, -0.01279513])"
      ]
     },
     "execution_count": 18,
     "metadata": {},
     "output_type": "execute_result"
    }
   ],
   "source": [
    "import gym\n",
    "import matplotlib.pyplot as plt\n",
    "%matplotlib inline\n",
    "\n",
    "env = gym.make('CartPole-v1')\n",
    "env.reset()\n"
   ]
  },
  {
   "cell_type": "code",
   "execution_count": 19,
   "metadata": {},
   "outputs": [
    {
     "name": "stdout",
     "output_type": "stream",
     "text": [
      "There are 2 possible actions.\n"
     ]
    }
   ],
   "source": [
    "action_space = env.action_space.n\n",
    "print(f\"There are {action_space} possible actions.\")\n"
   ]
  },
  {
   "cell_type": "code",
   "execution_count": 20,
   "metadata": {},
   "outputs": [],
   "source": [
    "import tensorflow as tf\n",
    "from tensorflow.keras import layers\n",
    "import matplotlib.pyplot as plt\n",
    "from collections import deque\n",
    "import numpy as np"
   ]
  },
  {
   "cell_type": "code",
   "execution_count": 21,
   "metadata": {},
   "outputs": [],
   "source": [
    "class Memory():\n",
    "    def __init__(self, max_size):\n",
    "        self.buffer = deque(maxlen=max_size)\n",
    "\n",
    "    def add(self, experience):\n",
    "        self.buffer.append(experience)\n",
    "\n",
    "    def sample(self, batch_size):\n",
    "        buffer_size = len(self.buffer)\n",
    "        index = np.random.choice(np.arange(buffer_size),\n",
    "                                 size=batch_size,\n",
    "                                 replace=False)\n",
    "        return [self.buffer[i] for i in index]"
   ]
  },
  {
   "cell_type": "code",
   "execution_count": 22,
   "metadata": {},
   "outputs": [
    {
     "data": {
      "text/plain": [
       "[0, 8, 5, 1, 3]"
      ]
     },
     "execution_count": 22,
     "metadata": {},
     "output_type": "execute_result"
    }
   ],
   "source": [
    "mem = Memory(10)\n",
    "[mem.add(i) for i in np.arange(10)]\n",
    "mem.sample(5)"
   ]
  },
  {
   "cell_type": "code",
   "execution_count": 23,
   "metadata": {},
   "outputs": [],
   "source": [
    "MEMORY_SIZE = 600\n",
    "pretrain_length = 10\n",
    "memory = Memory(max_size=MEMORY_SIZE)\n",
    "\n",
    "state = env.reset() #env.decode(env.reset()))\n",
    "\n",
    "done = False\n",
    "step_limit = 600\n",
    "step = 0\n",
    "while step < step_limit:\n",
    "    \n",
    "    random_action = env.action_space.sample()\n",
    "    new_state, reward, done, info = env.step(random_action)\n",
    "    \n",
    "    \n",
    "    memory.add((state, random_action, new_state, reward, done, info))\n",
    "    \n",
    "    if done:\n",
    "        state = env.reset() \n",
    "        \n",
    "    else:\n",
    "        state = new_state\n",
    "        \n",
    "    step += 1\n"
   ]
  },
  {
   "cell_type": "code",
   "execution_count": 24,
   "metadata": {},
   "outputs": [
    {
     "data": {
      "text/plain": [
       "[(array([-0.04995308,  0.34708712,  0.02379961, -0.45910456]),\n",
       "  1,\n",
       "  array([-0.04301134,  0.5418647 ,  0.01461752, -0.74419176]),\n",
       "  1.0,\n",
       "  False,\n",
       "  {}),\n",
       " (array([ 0.01873945,  0.79360303,  0.08274351, -0.70245909]),\n",
       "  1,\n",
       "  array([ 0.03461151,  0.98748661,  0.06869433, -0.96799062]),\n",
       "  1.0,\n",
       "  False,\n",
       "  {}),\n",
       " (array([ 0.00526792, -0.62564526, -0.01350803,  0.7952413 ]),\n",
       "  0,\n",
       "  array([-0.00724499, -0.82057924,  0.0023968 ,  1.08364436]),\n",
       "  1.0,\n",
       "  False,\n",
       "  {})]"
      ]
     },
     "execution_count": 24,
     "metadata": {},
     "output_type": "execute_result"
    }
   ],
   "source": [
    "memory.sample(3)\n"
   ]
  },
  {
   "cell_type": "code",
   "execution_count": 25,
   "metadata": {},
   "outputs": [
    {
     "data": {
      "text/plain": [
       "<tf.Tensor: shape=(3, 2), dtype=float32, numpy=\n",
       "array([[-0.03683413, -0.0183279 ],\n",
       "       [-0.20276211, -0.2177669 ],\n",
       "       [ 0.04845861, -0.1822306 ]], dtype=float32)>"
      ]
     },
     "execution_count": 25,
     "metadata": {},
     "output_type": "execute_result"
    }
   ],
   "source": [
    "# predict the Q value of each action given the state\n",
    "inputs = layers.Input(shape=(4,))\n",
    "x = layers.Dense(50, activation=\"relu\")(inputs)\n",
    "x = layers.Dense(50, activation=\"relu\")(x)\n",
    "outputs = layers.Dense(2, activation=\"linear\")(x)\n",
    "\n",
    "model = tf.keras.Model(inputs, outputs)\n",
    "model_target = tf.keras.Model(inputs, outputs)\n",
    "\n",
    "\n",
    "model.output_shape\n",
    "model(tf.random.uniform((3,4),-1,1))"
   ]
  },
  {
   "cell_type": "code",
   "execution_count": 26,
   "metadata": {},
   "outputs": [],
   "source": [
    "def select_action(episode, model, state, min_epsilon, max_epsilon, decay_rate):\n",
    "\n",
    "    # random number for explore/exploit trade-off\n",
    "    epsilon = np.random.rand()\n",
    "\n",
    "    # current ee prob\n",
    "    explore_prob = min_epsilon + (max_epsilon - min_epsilon) * np.exp(-decay_rate*episode)\n",
    "\n",
    "    if epsilon < explore_prob:\n",
    "        action = env.action_space.sample()\n",
    "    else:\n",
    "        q_vals = model(tf.expand_dims(state, axis=0))\n",
    "        action = np.argmax(q_vals)\n",
    "\n",
    "    return action\n"
   ]
  },
  {
   "cell_type": "code",
   "execution_count": 27,
   "metadata": {},
   "outputs": [
    {
     "data": {
      "text/plain": [
       "[1, 1, 1, 1, 1, 1, 1, 1, 1, 0]"
      ]
     },
     "execution_count": 27,
     "metadata": {},
     "output_type": "execute_result"
    }
   ],
   "source": [
    "state = env.reset()\n",
    "[select_action(1, model, tf.random.normal((4,)), 0.0, 0.0, 0.01) for i in range(10)]"
   ]
  },
  {
   "cell_type": "code",
   "execution_count": 28,
   "metadata": {},
   "outputs": [
    {
     "data": {
      "text/plain": [
       "(<tf.Tensor: shape=(3,), dtype=float32, numpy=array([0.9613245 , 0.84012526, 0.8266217 ], dtype=float32)>,\n",
       " array([[ 2.70633112e-02,  4.08537777e-02,  7.50476390e-05,\n",
       "          2.91429823e-02],\n",
       "        [ 1.76725186e-02, -5.73411478e-01, -9.76108902e-03,\n",
       "          7.57096472e-01],\n",
       "        [-9.16366193e-03, -5.73347427e-01,  2.63146790e-02,\n",
       "          7.55702943e-01]]),\n",
       " [0, 0, 0])"
      ]
     },
     "execution_count": 28,
     "metadata": {},
     "output_type": "execute_result"
    }
   ],
   "source": [
    "def get_minibatch(model, memory, gamma, batch_size):\n",
    "\n",
    "    # memory structure: (state, action, new_state, reward, done, info)\n",
    "\n",
    "    batch = memory.sample(batch_size)\n",
    "    states = np.array([each[0] for each in batch])\n",
    "    actions =[each[1] for each in batch]\n",
    "    next_states = np.array([each[2] for each in batch])\n",
    "    rewards = [each[3] for each in batch]\n",
    "    dones = tf.constant([each[4] for each in batch], dtype=tf.float32)\n",
    "\n",
    "    # get q values from target model\n",
    "    q_target = model(next_states)\n",
    "    \n",
    "    q_target = tf.reduce_max(q_target, axis=1)\n",
    "    # set done q_target = reward and discount the others\n",
    "    q_target = rewards + gamma * (1. - dones) * q_target\n",
    "\n",
    "    return q_target, states, actions\n",
    "\n",
    "get_minibatch(model, memory, 0.99, 3)"
   ]
  },
  {
   "cell_type": "code",
   "execution_count": 29,
   "metadata": {},
   "outputs": [],
   "source": [
    "total_episodes = 10000       # Total number of training episodes\n",
    "max_steps = 200               # Max steps per episode\n",
    "batch_size = 64\n",
    "\n",
    "learning_rate = 0.01          # Learning rate\n",
    "gamma = 0.9                  # Discounting rate\n",
    "\n",
    "# Exploration parameters\n",
    "epsilon = 1.0               # Exploration rate\n",
    "max_epsilon = 1             # Exploration probability at start\n",
    "min_epsilon = .1            # Minimum exploration probability \n",
    "decay_rate = 0.003          # Exponential decay rate for exploration prob\n",
    "\n",
    "optimizer = tf.keras.optimizers.Adam(learning_rate=learning_rate)"
   ]
  },
  {
   "cell_type": "code",
   "execution_count": 30,
   "metadata": {},
   "outputs": [
    {
     "data": {
      "image/png": "[encoded data removed]",
      "text/plain": [
       "<Figure size 432x288 with 1 Axes>"
      ]
     },
     "metadata": {
      "needs_background": "light"
     },
     "output_type": "display_data"
    }
   ],
   "source": [
    "def explore(min_epsilon, max_epsilon, decay_rate, episode):\n",
    "    return min_epsilon + (max_epsilon - min_epsilon) * np.exp(-decay_rate*episode)\n",
    "    \n",
    "\n",
    "plt.plot(np.arange(1000), [explore(min_epsilon, max_epsilon, decay_rate, e) for e in np.arange(1000)])\n",
    "plt.grid()\n",
    "plt.show()"
   ]
  },
  {
   "cell_type": "code",
   "execution_count": 31,
   "metadata": {},
   "outputs": [
    {
     "name": "stdout",
     "output_type": "stream",
     "text": [
      "Episode: 0\tLoss: 0.862\tEpisode reward: 36.0\n",
      "Episode: 100\tLoss: 3.630\tEpisode reward: 14.0\n",
      "Episode: 200\tLoss: 1.495\tEpisode reward: 26.0\n",
      "Episode: 300\tLoss: 0.930\tEpisode reward: 78.0\n",
      "Episode: 400\tLoss: 0.515\tEpisode reward: 28.0\n",
      "Episode: 500\tLoss: 0.091\tEpisode reward: 126.0\n",
      "Episode: 600\tLoss: 0.452\tEpisode reward: 182.0\n",
      "Episode: 700\tLoss: 0.016\tEpisode reward: 293.0\n",
      "Episode: 800\tLoss: 0.014\tEpisode reward: 357.0\n",
      "Episode: 900\tLoss: 0.470\tEpisode reward: 192.0\n",
      "Episode: 1000\tLoss: 0.020\tEpisode reward: 208.0\n",
      "Episode: 1100\tLoss: 0.686\tEpisode reward: 282.0\n",
      "Episode: 1200\tLoss: 0.006\tEpisode reward: 474.0\n"
     ]
    },
    {
     "ename": "KeyboardInterrupt",
     "evalue": "",
     "output_type": "error",
     "traceback": [
      "\u001b[1;31m---------------------------------------------------------------------------\u001b[0m",
      "\u001b[1;31mKeyboardInterrupt\u001b[0m                         Traceback (most recent call last)",
      "\u001b[1;32m<ipython-input-31-d706e73a8aaf>\u001b[0m in \u001b[0;36m<module>\u001b[1;34m\u001b[0m\n\u001b[0;32m     12\u001b[0m     \u001b[1;32mwhile\u001b[0m \u001b[1;32mnot\u001b[0m \u001b[0mdone\u001b[0m\u001b[1;33m:\u001b[0m\u001b[1;33m\u001b[0m\u001b[1;33m\u001b[0m\u001b[0m\n\u001b[0;32m     13\u001b[0m         \u001b[0mstep\u001b[0m \u001b[1;33m+=\u001b[0m \u001b[1;36m1\u001b[0m\u001b[1;33m\u001b[0m\u001b[1;33m\u001b[0m\u001b[0m\n\u001b[1;32m---> 14\u001b[1;33m         \u001b[0maction\u001b[0m \u001b[1;33m=\u001b[0m \u001b[0mselect_action\u001b[0m\u001b[1;33m(\u001b[0m\u001b[0mepisode\u001b[0m\u001b[1;33m,\u001b[0m \u001b[0mmodel\u001b[0m\u001b[1;33m,\u001b[0m \u001b[0mstate\u001b[0m\u001b[1;33m,\u001b[0m \u001b[0mmin_epsilon\u001b[0m\u001b[1;33m,\u001b[0m \u001b[0mmax_epsilon\u001b[0m\u001b[1;33m,\u001b[0m \u001b[0mdecay_rate\u001b[0m\u001b[1;33m)\u001b[0m\u001b[1;33m\u001b[0m\u001b[1;33m\u001b[0m\u001b[0m\n\u001b[0m\u001b[0;32m     15\u001b[0m         \u001b[0mnew_state\u001b[0m\u001b[1;33m,\u001b[0m \u001b[0mreward\u001b[0m\u001b[1;33m,\u001b[0m \u001b[0mdone\u001b[0m\u001b[1;33m,\u001b[0m \u001b[0minfo\u001b[0m \u001b[1;33m=\u001b[0m \u001b[0menv\u001b[0m\u001b[1;33m.\u001b[0m\u001b[0mstep\u001b[0m\u001b[1;33m(\u001b[0m\u001b[0maction\u001b[0m\u001b[1;33m)\u001b[0m\u001b[1;33m\u001b[0m\u001b[1;33m\u001b[0m\u001b[0m\n\u001b[0;32m     16\u001b[0m \u001b[1;33m\u001b[0m\u001b[0m\n",
      "\u001b[1;32m<ipython-input-26-fda180078e2b>\u001b[0m in \u001b[0;36mselect_action\u001b[1;34m(episode, model, state, min_epsilon, max_epsilon, decay_rate)\u001b[0m\n\u001b[0;32m     10\u001b[0m         \u001b[0maction\u001b[0m \u001b[1;33m=\u001b[0m \u001b[0menv\u001b[0m\u001b[1;33m.\u001b[0m\u001b[0maction_space\u001b[0m\u001b[1;33m.\u001b[0m\u001b[0msample\u001b[0m\u001b[1;33m(\u001b[0m\u001b[1;33m)\u001b[0m\u001b[1;33m\u001b[0m\u001b[1;33m\u001b[0m\u001b[0m\n\u001b[0;32m     11\u001b[0m     \u001b[1;32melse\u001b[0m\u001b[1;33m:\u001b[0m\u001b[1;33m\u001b[0m\u001b[1;33m\u001b[0m\u001b[0m\n\u001b[1;32m---> 12\u001b[1;33m         \u001b[0mq_vals\u001b[0m \u001b[1;33m=\u001b[0m \u001b[0mmodel\u001b[0m\u001b[1;33m(\u001b[0m\u001b[0mtf\u001b[0m\u001b[1;33m.\u001b[0m\u001b[0mexpand_dims\u001b[0m\u001b[1;33m(\u001b[0m\u001b[0mstate\u001b[0m\u001b[1;33m,\u001b[0m \u001b[0maxis\u001b[0m\u001b[1;33m=\u001b[0m\u001b[1;36m0\u001b[0m\u001b[1;33m)\u001b[0m\u001b[1;33m)\u001b[0m\u001b[1;33m\u001b[0m\u001b[1;33m\u001b[0m\u001b[0m\n\u001b[0m\u001b[0;32m     13\u001b[0m         \u001b[0maction\u001b[0m \u001b[1;33m=\u001b[0m \u001b[0mnp\u001b[0m\u001b[1;33m.\u001b[0m\u001b[0margmax\u001b[0m\u001b[1;33m(\u001b[0m\u001b[0mq_vals\u001b[0m\u001b[1;33m)\u001b[0m\u001b[1;33m\u001b[0m\u001b[1;33m\u001b[0m\u001b[0m\n\u001b[0;32m     14\u001b[0m \u001b[1;33m\u001b[0m\u001b[0m\n",
      "\u001b[1;32m~\\anaconda3\\lib\\site-packages\\tensorflow\\python\\util\\dispatch.py\u001b[0m in \u001b[0;36mwrapper\u001b[1;34m(*args, **kwargs)\u001b[0m\n\u001b[0;32m    204\u001b[0m     \u001b[1;34m\"\"\"Call target, and fall back on dispatchers if there is a TypeError.\"\"\"\u001b[0m\u001b[1;33m\u001b[0m\u001b[1;33m\u001b[0m\u001b[0m\n\u001b[0;32m    205\u001b[0m     \u001b[1;32mtry\u001b[0m\u001b[1;33m:\u001b[0m\u001b[1;33m\u001b[0m\u001b[1;33m\u001b[0m\u001b[0m\n\u001b[1;32m--> 206\u001b[1;33m       \u001b[1;32mreturn\u001b[0m \u001b[0mtarget\u001b[0m\u001b[1;33m(\u001b[0m\u001b[1;33m*\u001b[0m\u001b[0margs\u001b[0m\u001b[1;33m,\u001b[0m \u001b[1;33m**\u001b[0m\u001b[0mkwargs\u001b[0m\u001b[1;33m)\u001b[0m\u001b[1;33m\u001b[0m\u001b[1;33m\u001b[0m\u001b[0m\n\u001b[0m\u001b[0;32m    207\u001b[0m     \u001b[1;32mexcept\u001b[0m \u001b[1;33m(\u001b[0m\u001b[0mTypeError\u001b[0m\u001b[1;33m,\u001b[0m \u001b[0mValueError\u001b[0m\u001b[1;33m)\u001b[0m\u001b[1;33m:\u001b[0m\u001b[1;33m\u001b[0m\u001b[1;33m\u001b[0m\u001b[0m\n\u001b[0;32m    208\u001b[0m       \u001b[1;31m# Note: convert_to_eager_tensor currently raises a ValueError, not a\u001b[0m\u001b[1;33m\u001b[0m\u001b[1;33m\u001b[0m\u001b[1;33m\u001b[0m\u001b[0m\n",
      "\u001b[1;32m~\\anaconda3\\lib\\site-packages\\tensorflow\\python\\ops\\array_ops.py\u001b[0m in \u001b[0;36mexpand_dims_v2\u001b[1;34m(input, axis, name)\u001b[0m\n\u001b[0;32m    434\u001b[0m     \u001b[0mInvalidArgumentError\u001b[0m\u001b[1;33m:\u001b[0m \u001b[0mIf\u001b[0m\u001b[0;31m \u001b[0m\u001b[0;31m`\u001b[0m\u001b[0maxis\u001b[0m\u001b[0;31m`\u001b[0m \u001b[1;32mis\u001b[0m \u001b[0mout\u001b[0m \u001b[0mof\u001b[0m \u001b[0mrange\u001b[0m\u001b[0;31m \u001b[0m\u001b[0;31m`\u001b[0m\u001b[1;33m[\u001b[0m\u001b[1;33m-\u001b[0m\u001b[1;33m(\u001b[0m\u001b[0mD\u001b[0m\u001b[1;33m+\u001b[0m\u001b[1;36m1\u001b[0m\u001b[1;33m)\u001b[0m\u001b[1;33m,\u001b[0m \u001b[0mD\u001b[0m\u001b[1;33m]\u001b[0m\u001b[0;31m`\u001b[0m\u001b[1;33m.\u001b[0m\u001b[1;33m\u001b[0m\u001b[1;33m\u001b[0m\u001b[0m\n\u001b[0;32m    435\u001b[0m   \"\"\"\n\u001b[1;32m--> 436\u001b[1;33m   \u001b[1;32mreturn\u001b[0m \u001b[0mgen_array_ops\u001b[0m\u001b[1;33m.\u001b[0m\u001b[0mexpand_dims\u001b[0m\u001b[1;33m(\u001b[0m\u001b[0minput\u001b[0m\u001b[1;33m,\u001b[0m \u001b[0maxis\u001b[0m\u001b[1;33m,\u001b[0m \u001b[0mname\u001b[0m\u001b[1;33m)\u001b[0m\u001b[1;33m\u001b[0m\u001b[1;33m\u001b[0m\u001b[0m\n\u001b[0m\u001b[0;32m    437\u001b[0m \u001b[1;33m\u001b[0m\u001b[0m\n\u001b[0;32m    438\u001b[0m \u001b[1;33m\u001b[0m\u001b[0m\n",
      "\u001b[1;32m~\\anaconda3\\lib\\site-packages\\tensorflow\\python\\ops\\gen_array_ops.py\u001b[0m in \u001b[0;36mexpand_dims\u001b[1;34m(input, axis, name)\u001b[0m\n\u001b[0;32m   2282\u001b[0m   \u001b[1;32mif\u001b[0m \u001b[0mtld\u001b[0m\u001b[1;33m.\u001b[0m\u001b[0mis_eager\u001b[0m\u001b[1;33m:\u001b[0m\u001b[1;33m\u001b[0m\u001b[1;33m\u001b[0m\u001b[0m\n\u001b[0;32m   2283\u001b[0m     \u001b[1;32mtry\u001b[0m\u001b[1;33m:\u001b[0m\u001b[1;33m\u001b[0m\u001b[1;33m\u001b[0m\u001b[0m\n\u001b[1;32m-> 2284\u001b[1;33m       _result = pywrap_tfe.TFE_Py_FastPathExecute(\n\u001b[0m\u001b[0;32m   2285\u001b[0m         _ctx, \"ExpandDims\", name, input, axis)\n\u001b[0;32m   2286\u001b[0m       \u001b[1;32mreturn\u001b[0m \u001b[0m_result\u001b[0m\u001b[1;33m\u001b[0m\u001b[1;33m\u001b[0m\u001b[0m\n",
      "\u001b[1;31mKeyboardInterrupt\u001b[0m: "
     ]
    }
   ],
   "source": [
    "episode_reward_hist = []\n",
    "episode_loss_hist = []\n",
    "\n",
    "for episode in range(total_episodes):\n",
    "\n",
    "    step = 0\n",
    "    state = env.reset() #list(env.decode(env.reset()))\n",
    "    done = False\n",
    "    episode_reward = 0\n",
    "\n",
    "    # play and record in memory\n",
    "    while not done:\n",
    "        step += 1\n",
    "        action = select_action(episode, model, state, min_epsilon, max_epsilon, decay_rate)\n",
    "        new_state, reward, done, info = env.step(action)\n",
    "        \n",
    "        memory.add((state, action, new_state, reward, done, info))\n",
    "                \n",
    "        \n",
    "        if done:\n",
    "            state = env.reset() #list(env.decode(env.reset()))\n",
    "        else:\n",
    "            state = new_state\n",
    "        episode_reward += reward\n",
    "\n",
    "    episode_reward_hist.append(episode_reward)\n",
    "    \n",
    "    # sample from memory and train\n",
    "    q_target, states, actions = get_minibatch(model_target, memory, gamma, batch_size)\n",
    "\n",
    "    with tf.GradientTape() as tape:\n",
    "        \n",
    "        q_values = model(states)\n",
    "        \n",
    "        masks = tf.one_hot(actions, env.action_space.n)\n",
    "        \n",
    "        q_action = tf.reduce_max(tf.multiply(q_values, masks), axis=1)\n",
    "\n",
    "        loss = tf.keras.losses.MeanSquaredError()(q_target, q_action)\n",
    "\n",
    "    grads = tape.gradient(loss, model.trainable_variables)\n",
    "    optimizer.apply_gradients(zip(grads, model.trainable_variables))\n",
    "    episode_loss_hist.append(loss)\n",
    "\n",
    "    if episode % 50 == 0:\n",
    "        model_target.set_weights(model.get_weights())\n",
    "\n",
    "    if episode % 100 ==0:\n",
    "        print(f\"Episode: {episode}\\tLoss: {loss:.3f}\\tEpisode reward: {episode_reward}\")\n"
   ]
  },
  {
   "cell_type": "code",
   "execution_count": null,
   "metadata": {},
   "outputs": [],
   "source": [
    "plt.figure(figsize=(10,7))\n",
    "plt.subplot(2,1,1)\n",
    "plt.plot(episode_reward_hist)\n",
    "plt.grid()\n",
    "plt.subplot(2,1,2)\n",
    "plt.plot(episode_loss_hist)\n",
    "plt.grid()\n",
    "plt.show()\n"
   ]
  },
  {
   "cell_type": "code",
   "execution_count": null,
   "metadata": {},
   "outputs": [],
   "source": [
    "from matplotlib import animation , rc\n",
    "%matplotlib inline\n",
    "\n",
    "fig = plt.figure()\n",
    "\n",
    "frame = []\n",
    "env.reset()\n",
    "\n",
    "for episode in range(1):\n",
    "\n",
    "    step = 0\n",
    "    state = env.reset() #list(env.decode(env.reset()))\n",
    "    done = False\n",
    "    episode_reward = 0\n",
    "\n",
    "\n",
    "    # play and record in memory\n",
    "\n",
    "    while not done:\n",
    "        step += 1\n",
    "        action = select_action(episode, model, state, 0, 0, decay_rate)\n",
    "\n",
    "        new_state, reward, done, info = env.step(action)\n",
    "        img = plt.imshow(env.render('rgb_array'))\n",
    "        frame.append([img])\n",
    "        \n",
    "        if done:\n",
    "            state = env.reset() \n",
    "        else:\n",
    "            state = new_state\n",
    "        episode_reward += reward\n",
    "\n",
    "    print(f\"episode lasted {step} steps\")\n",
    "an = animation.ArtistAnimation(fig, frame, interval=100, repeat_delay=1000, blit=True)\n",
    "rc('animation', html='jshtml')\n",
    "an"
   ]
  },
  {
   "cell_type": "code",
   "execution_count": null,
   "metadata": {},
   "outputs": [],
   "source": []
  }
 ],
 "metadata": {
  "kernelspec": {
   "display_name": "Python 3",
   "language": "python",
   "name": "python3"
  },
  "language_info": {
   "codemirror_mode": {
    "name": "ipython",
    "version": 3
   },
   "file_extension": ".py",
   "mimetype": "text/x-python",
   "name": "python",
   "nbconvert_exporter": "python",
   "pygments_lexer": "ipython3",
   "version": "3.8.8"
  },
  "toc-autonumbering": true,
  "toc-showcode": false,
  "toc-showmarkdowntxt": true
 },
 "nbformat": 4,
 "nbformat_minor": 4
}
